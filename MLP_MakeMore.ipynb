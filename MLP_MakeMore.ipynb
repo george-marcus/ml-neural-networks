{
  "nbformat": 4,
  "nbformat_minor": 0,
  "metadata": {
    "colab": {
      "provenance": [],
      "mount_file_id": "1kQDAZVPJOXDB14PdURQjC90fiQa6cUVW",
      "authorship_tag": "ABX9TyPL1RrBZZCxfazhYMV4Dudz",
      "include_colab_link": true
    },
    "kernelspec": {
      "name": "python3",
      "display_name": "Python 3"
    },
    "language_info": {
      "name": "python"
    }
  },
  "cells": [
    {
      "cell_type": "markdown",
      "metadata": {
        "id": "view-in-github",
        "colab_type": "text"
      },
      "source": [
        "<a href=\"https://colab.research.google.com/github/george-marcus/ml-neural-networks/blob/main/MLP_MakeMore.ipynb\" target=\"_parent\"><img src=\"https://colab.research.google.com/assets/colab-badge.svg\" alt=\"Open In Colab\"/></a>"
      ]
    },
    {
      "cell_type": "code",
      "execution_count": 24,
      "metadata": {
        "id": "hu-NQxEoW5G_",
        "colab": {
          "base_uri": "https://localhost:8080/"
        },
        "outputId": "6c19eddb-4c7a-48f7-ac71-b18a32248aec"
      },
      "outputs": [
        {
          "output_type": "stream",
          "name": "stdout",
          "text": [
            "Drive already mounted at /content/drive; to attempt to forcibly remount, call drive.mount(\"/content/drive\", force_remount=True).\n"
          ]
        }
      ],
      "source": [
        "import torch\n",
        "import torch.nn.functional as F\n",
        "import matplotlib as plt\n",
        "from google.colab import drive\n",
        "import random\n",
        "\n",
        "%matplotlib inline\n",
        "drive.mount('/content/drive')"
      ]
    },
    {
      "cell_type": "code",
      "source": [
        "words = open('/content/drive/MyDrive/Colab Notebooks/names.txt', 'r').read().splitlines()\n",
        "chars = sorted(list(set(''.join(words))))\n",
        "stoi = {s:i+1 for i,s in enumerate(chars)}\n",
        "stoi['.'] = 0\n",
        "itos = {i:s for s,i in stoi.items()}\n",
        "block_size = 3"
      ],
      "metadata": {
        "id": "48utxdSVfiJi"
      },
      "execution_count": 67,
      "outputs": []
    },
    {
      "cell_type": "code",
      "source": [
        "def build_dataset(words):\n",
        "  X,Y = [],[]\n",
        "  for w in words:\n",
        "    context = [0] * block_size\n",
        "    for ch in w + '.':\n",
        "      ix = stoi[ch]\n",
        "      X.append(context)\n",
        "      Y.append(ix)\n",
        "      context = context[1:] + [ix]\n",
        "  X = torch.tensor(X)\n",
        "  Y = torch.tensor(Y)\n",
        "  return X,Y"
      ],
      "metadata": {
        "id": "aipcQZh4TsDB"
      },
      "execution_count": 68,
      "outputs": []
    },
    {
      "cell_type": "code",
      "source": [
        "random.seed(42)\n",
        "random.shuffle(words)\n",
        "n1 = int(0.8*len(words))\n",
        "n2 = int(0.9*len(words))\n",
        "xtr,ytr = build_dataset(words[:n1])\n",
        "xdev,ydev = build_dataset(words[n1:n2])\n",
        "xte,yte = build_dataset(words[n2:])\n",
        "\n",
        "C = torch.randn((27,10))\n",
        "W1 = torch.randn((30,200))\n",
        "b1 = torch.randn(200)\n",
        "W2 = torch.randn((200,27))\n",
        "b2 = torch.randn(27)\n",
        "parameters = [C,W1,b1,W2,b2]\n",
        "\n",
        "for p in parameters:\n",
        "  p.requires_grad = True\n",
        "\n",
        "lre = torch.linspace(-3,0,1000)\n",
        "lrs = 10**lre\n",
        "lri = []\n",
        "lossi = []"
      ],
      "metadata": {
        "id": "G-oRCv0e7Wgi"
      },
      "execution_count": 69,
      "outputs": []
    },
    {
      "cell_type": "code",
      "source": [
        "for i in range(200000):\n",
        "  # mini batch construct\n",
        "  ix = torch.randint(0,xtr.shape[0],(32,))\n",
        "  # forward pass\n",
        "  emb = C[xtr[ix]]\n",
        "  h = torch.tanh(emb.view(-1, 30) @ W1 + b1)\n",
        "  logits = h @ W2 + b2\n",
        "  loss = F.cross_entropy(logits,ytr[ix])\n",
        "  #  backward pass\n",
        "  for p in parameters:\n",
        "    p.grad = None\n",
        "  loss.backward()\n",
        "  lr = 0.1 if i < 10000 else 0.01\n",
        "\n",
        "  for p in parameters:\n",
        "    p.data += -lr * p.grad"
      ],
      "metadata": {
        "id": "fVghoIkb5rz0"
      },
      "execution_count": 74,
      "outputs": []
    },
    {
      "cell_type": "code",
      "source": [
        "emb = C[xdev]\n",
        "h = torch.tanh(emb.view(emb.shape[0],30) @ W1 + b1)\n",
        "logits = h @ W2 + b2\n",
        "loss = F.cross_entropy(logits,ydev)\n",
        "loss"
      ],
      "metadata": {
        "colab": {
          "base_uri": "https://localhost:8080/"
        },
        "id": "QPZ4Lptt9eA2",
        "outputId": "962f7362-77e1-442c-e162-767a36b3abe3"
      },
      "execution_count": 75,
      "outputs": [
        {
          "output_type": "execute_result",
          "data": {
            "text/plain": [
              "tensor(2.2382, grad_fn=<NllLossBackward0>)"
            ]
          },
          "metadata": {},
          "execution_count": 75
        }
      ]
    },
    {
      "cell_type": "code",
      "source": [
        "emb = C[xtr]\n",
        "h = torch.tanh(emb.view(emb.shape[0],30) @ W1 + b1)\n",
        "logits = h @ W2 + b2\n",
        "loss = F.cross_entropy(logits,ytr)\n",
        "loss"
      ],
      "metadata": {
        "colab": {
          "base_uri": "https://localhost:8080/"
        },
        "id": "NjU6-DmQ-2Gj",
        "outputId": "225847f3-bc64-497c-84ea-7ea59c4d3759"
      },
      "execution_count": 76,
      "outputs": [
        {
          "output_type": "execute_result",
          "data": {
            "text/plain": [
              "tensor(2.2248, grad_fn=<NllLossBackward0>)"
            ]
          },
          "metadata": {},
          "execution_count": 76
        }
      ]
    },
    {
      "cell_type": "code",
      "source": [
        "# sample from the model\n",
        "for _ in range(20):\n",
        "  out = []\n",
        "  context = [0] * block_size\n",
        "  while True:\n",
        "    emb = C[torch.tensor(context)]\n",
        "    h = torch.tanh(emb.view(1,-1) @ W1 + b1)\n",
        "    logits = h @ W2 + b2\n",
        "    probs = F.softmax(logits, dim=1)\n",
        "    ix = torch.multinomial(probs, num_samples=1).item()\n",
        "    context = context[1:] + [ix]\n",
        "    out.append(ix)\n",
        "    if ix == 0:\n",
        "      break\n",
        "  print(''.join(itos[i] for i in out))"
      ],
      "metadata": {
        "colab": {
          "base_uri": "https://localhost:8080/"
        },
        "id": "vJkWpin_AXzM",
        "outputId": "40ff542d-be5f-4e67-af9f-60f661ce3850"
      },
      "execution_count": 77,
      "outputs": [
        {
          "output_type": "stream",
          "name": "stdout",
          "text": [
            "mori.\n",
            "sehin.\n",
            "anly.\n",
            "rusinet.\n",
            "adair.\n",
            "jiyah.\n",
            "grcyelle.\n",
            "mamdie.\n",
            "mari.\n",
            "eylynn.\n",
            "nia.\n",
            "teegh.\n",
            "cambrig.\n",
            "breirglyn.\n",
            "zamayda.\n",
            "tirron.\n",
            "silliah.\n",
            "cell.\n",
            "nai.\n",
            "prezena.\n"
          ]
        }
      ]
    },
    {
      "cell_type": "code",
      "source": [],
      "metadata": {
        "id": "zkj22iHbI0wq"
      },
      "execution_count": null,
      "outputs": []
    }
  ]
}