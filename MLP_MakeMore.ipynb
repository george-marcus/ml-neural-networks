{
  "nbformat": 4,
  "nbformat_minor": 0,
  "metadata": {
    "colab": {
      "provenance": [],
      "mount_file_id": "1kQDAZVPJOXDB14PdURQjC90fiQa6cUVW",
      "authorship_tag": "ABX9TyPpaaKoUBnYQtDwbxuGY87O",
      "include_colab_link": true
    },
    "kernelspec": {
      "name": "python3",
      "display_name": "Python 3"
    },
    "language_info": {
      "name": "python"
    }
  },
  "cells": [
    {
      "cell_type": "markdown",
      "metadata": {
        "id": "view-in-github",
        "colab_type": "text"
      },
      "source": [
        "<a href=\"https://colab.research.google.com/github/george-marcus/ml-neural-networks/blob/main/MLP_MakeMore.ipynb\" target=\"_parent\"><img src=\"https://colab.research.google.com/assets/colab-badge.svg\" alt=\"Open In Colab\"/></a>"
      ]
    },
    {
      "cell_type": "code",
      "execution_count": 1,
      "metadata": {
        "id": "hu-NQxEoW5G_"
      },
      "outputs": [],
      "source": [
        "import torch"
      ]
    },
    {
      "cell_type": "code",
      "source": [
        "import torch.nn.functional as F"
      ],
      "metadata": {
        "id": "s_Mt39YFW7kY"
      },
      "execution_count": 2,
      "outputs": []
    },
    {
      "cell_type": "code",
      "source": [
        "import matplotlib as plt"
      ],
      "metadata": {
        "id": "1ZKQ1LRSXAfx"
      },
      "execution_count": 3,
      "outputs": []
    },
    {
      "cell_type": "code",
      "source": [
        "%matplotlib inline"
      ],
      "metadata": {
        "id": "Dd433vFkXDsJ"
      },
      "execution_count": 4,
      "outputs": []
    },
    {
      "cell_type": "code",
      "source": [
        "from google.colab import drive\n",
        "drive.mount('/content/drive')"
      ],
      "metadata": {
        "colab": {
          "base_uri": "https://localhost:8080/"
        },
        "id": "Fa4M3qXsXGTJ",
        "outputId": "ee0a7bab-93b4-49d6-c89a-05c8edc1fb97"
      },
      "execution_count": 5,
      "outputs": [
        {
          "output_type": "stream",
          "name": "stdout",
          "text": [
            "Drive already mounted at /content/drive; to attempt to forcibly remount, call drive.mount(\"/content/drive\", force_remount=True).\n"
          ]
        }
      ]
    },
    {
      "cell_type": "code",
      "source": [
        "words = open('/content/drive/MyDrive/Colab Notebooks/names.txt', 'r').read().splitlines()"
      ],
      "metadata": {
        "id": "efgGSMSBXcl4"
      },
      "execution_count": 6,
      "outputs": []
    },
    {
      "cell_type": "code",
      "source": [
        "block_size = 3"
      ],
      "metadata": {
        "id": "y8lW2tHoZDtI"
      },
      "execution_count": 7,
      "outputs": []
    },
    {
      "cell_type": "code",
      "source": [
        "chars = sorted(list(set(''.join(words))))\n",
        "stoi = {s:i+1 for i,s in enumerate(chars)}\n",
        "stoi['.'] = 0\n",
        "itos = {i:s for s,i in stoi.items()}"
      ],
      "metadata": {
        "id": "48utxdSVfiJi"
      },
      "execution_count": 8,
      "outputs": []
    },
    {
      "cell_type": "code",
      "source": [
        "X,Y = [],[]\n",
        "for w in words:\n",
        "  context = [0] * block_size\n",
        "  for ch in w + '.':\n",
        "    ix = stoi[ch]\n",
        "    X.append(context)\n",
        "    Y.append(ix)\n",
        "    context = context[1:] + [ix] # crop and append"
      ],
      "metadata": {
        "id": "4c15Z72RcPlN"
      },
      "execution_count": 9,
      "outputs": []
    },
    {
      "cell_type": "code",
      "source": [
        "X = torch.tensor(X)"
      ],
      "metadata": {
        "id": "a1YwOOsGfxND"
      },
      "execution_count": 10,
      "outputs": []
    },
    {
      "cell_type": "code",
      "source": [
        "Y = torch.tensor(Y)"
      ],
      "metadata": {
        "id": "SNN9FWerf0I6"
      },
      "execution_count": 11,
      "outputs": []
    },
    {
      "cell_type": "code",
      "source": [
        "g = torch.Generator().manual_seed(2147483647)\n",
        "C = torch.randn((27,2),generator=g)\n",
        "W1 = torch.randn((6,100),generator=g)\n",
        "b1 = torch.randn(100,generator=g)\n",
        "W2 = torch.randn((100,27),generator=g)\n",
        "b2 = torch.randn(27,generator=g)\n",
        "parameters = [C, W1, b1, W2, b2]\n",
        "\n",
        "for p in parameters:\n",
        "  p.requires_grad = True\n"
      ],
      "metadata": {
        "id": "syqWyhwEf3Fa"
      },
      "execution_count": 15,
      "outputs": []
    },
    {
      "cell_type": "code",
      "source": [
        "lre = torch.linspace(-3,0,1000)\n",
        "lrs = 10**lre\n",
        "\n",
        "ix = torch.randint(0,X.shape[0],(32,))\n",
        "for i in range(1000):\n",
        "  # forward pass\n",
        "  emb = C[X[ix]]\n",
        "  h = torch.tanh(emb.view(emb.shape[0],6) @ W1 + b1)\n",
        "  logits = h @ W2 + b2\n",
        "  loss = F.cross_entropy(logits,Y[ix])\n",
        "  #  backward pass\n",
        "  for p in parameters:\n",
        "    p.grad = None\n",
        "  loss.backward()\n",
        "  # update\n",
        "  lr = lrs[i]\n",
        "  for p in parameters:\n",
        "    p.data += -lr * p.grad"
      ],
      "metadata": {
        "id": "sYWZcGs6a3Lm"
      },
      "execution_count": 17,
      "outputs": []
    },
    {
      "cell_type": "code",
      "source": [
        "emb = C[X[ix]]\n",
        "h = torch.tanh(emb.view(emb.shape[0],6) @ W1 + b1)\n",
        "logits = h @ W2 + b2\n",
        "loss = F.cross_entropy(logits,Y[ix])\n",
        "loss"
      ],
      "metadata": {
        "id": "-5AfSmYRHSkf",
        "colab": {
          "base_uri": "https://localhost:8080/"
        },
        "outputId": "eccbab9a-a7ec-4cbb-d34a-520ba31e21be"
      },
      "execution_count": 21,
      "outputs": [
        {
          "output_type": "execute_result",
          "data": {
            "text/plain": [
              "tensor(0.0020, grad_fn=<NllLossBackward0>)"
            ]
          },
          "metadata": {},
          "execution_count": 21
        }
      ]
    },
    {
      "cell_type": "code",
      "source": [],
      "metadata": {
        "id": "M9OFBumbD163"
      },
      "execution_count": null,
      "outputs": []
    }
  ]
}